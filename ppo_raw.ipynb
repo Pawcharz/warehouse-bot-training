{
 "cells": [
  {
   "cell_type": "code",
   "execution_count": 1,
   "metadata": {},
   "outputs": [],
   "source": [
    "import warnings\n",
    "warnings.filterwarnings(\"ignore\")\n",
    "\n",
    "import torch\n",
    "from torch import multiprocessing"
   ]
  },
  {
   "cell_type": "code",
   "execution_count": 2,
   "metadata": {},
   "outputs": [],
   "source": [
    "is_fork = multiprocessing.get_start_method() == \"fork\"\n",
    "\n",
    "device = (\n",
    "    torch.device(0)\n",
    "    if torch.cuda.is_available() and not is_fork\n",
    "    else torch.device(\"cpu\")\n",
    ")"
   ]
  },
  {
   "cell_type": "markdown",
   "metadata": {},
   "source": [
    "## Environment Preparation"
   ]
  },
  {
   "cell_type": "markdown",
   "metadata": {},
   "source": [
    "#### Transform environment from `mlagents` to `gymnasium`"
   ]
  },
  {
   "cell_type": "code",
   "execution_count": 3,
   "metadata": {},
   "outputs": [
    {
     "name": "stdout",
     "output_type": "stream",
     "text": [
      "1.1.1\n"
     ]
    }
   ],
   "source": [
    "import gymnasium as gym\n",
    "print(gym.__version__)"
   ]
  },
  {
   "cell_type": "code",
   "execution_count": 4,
   "metadata": {},
   "outputs": [],
   "source": [
    "from mlagents_envs.side_channel.engine_configuration_channel import EngineConfigurationChannel\n",
    "from mlagents_envs.environment import UnityEnvironment\n",
    "\n",
    "from env_camera_gymnasium_wrapper import UnityCameraGymWrapper\n",
    "from env_camera_raycasts_gymnasium_wrapper import UnityCameraRaycastsGymWrapper\n",
    "\n",
    "env_path = \"D:/_Thesis/warehouse-bot-training/environment_builds/warehouse_stage2_find_potential_dist/Warehouse_Bot.exe\"\n",
    "def make_env():\n",
    "\n",
    "  channel = EngineConfigurationChannel()\n",
    "\n",
    "  unity_env = UnityEnvironment(\n",
    "    file_name=env_path,\n",
    "    side_channels=[channel],\n",
    "  )\n",
    "  \n",
    "  channel.set_configuration_parameters(time_scale=1)\n",
    "  \n",
    "  gymnasium_env = UnityCameraRaycastsGymWrapper(unity_env)\n",
    "  \n",
    "  print(gymnasium_env.observation_space)\n",
    "  \n",
    "  return gymnasium_env"
   ]
  },
  {
   "cell_type": "code",
   "execution_count": 5,
   "metadata": {},
   "outputs": [],
   "source": [
    "# env = make_env()"
   ]
  },
  {
   "cell_type": "markdown",
   "metadata": {},
   "source": [
    "#### Policy Config"
   ]
  },
  {
   "cell_type": "code",
   "execution_count": null,
   "metadata": {},
   "outputs": [],
   "source": []
  },
  {
   "cell_type": "markdown",
   "metadata": {},
   "source": [
    "#### Training Algorithm"
   ]
  },
  {
   "cell_type": "code",
   "execution_count": 19,
   "metadata": {},
   "outputs": [],
   "source": [
    "import gymnasium as gym\n",
    "import torch\n",
    "import torch.nn as nn\n",
    "import torch.optim as optim\n",
    "import numpy as np\n",
    "from collections import namedtuple\n",
    "from torch.distributions import Categorical\n",
    "\n",
    "# Hyperparameters\n",
    "env_id = \"CartPole-v1\"\n",
    "gamma = 0.99\n",
    "lam = 0.95\n",
    "clip_eps = 0.2\n",
    "ppo_epochs = 10\n",
    "batch_size = 64\n",
    "update_timesteps = 2048\n",
    "lr = 3e-4\n",
    "\n",
    "device = torch.device(\"cuda\" if torch.cuda.is_available() else \"cpu\")\n",
    "\n",
    "# Actor-Critic Network\n",
    "class ActorCritic(nn.Module):\n",
    "    def __init__(self, obs_dim, act_dim):\n",
    "        super().__init__()\n",
    "        self.shared = nn.Sequential(\n",
    "            nn.Linear(obs_dim, 64),\n",
    "            nn.Tanh(),\n",
    "            nn.Linear(64, 64),\n",
    "            nn.Tanh()\n",
    "        )\n",
    "        self.policy_head = nn.Linear(64, act_dim)\n",
    "        self.value_head = nn.Linear(64, 1)\n",
    "\n",
    "    def forward(self, x):\n",
    "        x = self.shared(x)\n",
    "        return self.policy_head(x), self.value_head(x)\n",
    "\n",
    "    def get_action(self, obs):\n",
    "        logits, value = self.forward(obs)\n",
    "        dist = Categorical(logits=logits)\n",
    "        action = dist.sample()\n",
    "        return action, dist.log_prob(action), dist.entropy(), value.squeeze()\n",
    "\n",
    "    def evaluate_actions(self, obs, actions):\n",
    "        logits, values = self.forward(obs)\n",
    "        dist = Categorical(logits=logits)\n",
    "        log_probs = dist.log_prob(actions)\n",
    "        entropy = dist.entropy()\n",
    "        return log_probs, entropy, values.squeeze()\n",
    "\n",
    "# Rollout Buffer\n",
    "class RolloutBuffer:\n",
    "    def __init__(self):\n",
    "        self.buffer = {\n",
    "            'obs': [],\n",
    "            'acts': [],\n",
    "            'logps': [],\n",
    "            'rews': [],\n",
    "            'vals': [],\n",
    "            'dones': []\n",
    "        }\n",
    "\n",
    "    def add(self, obs, act, logp, rew, val, done):\n",
    "        self.buffer['obs'].append(obs)\n",
    "        self.buffer['acts'].append(act)\n",
    "        self.buffer['logps'].append(logp)\n",
    "        self.buffer['rews'].append(rew)\n",
    "        self.buffer['vals'].append(val)\n",
    "        self.buffer['dones'].append(done)\n",
    "\n",
    "    def compute_gae(self, gamma=0.99, lam=0.95, last_val=0.0):\n",
    "        vals = self.buffer['vals'] + [last_val]\n",
    "        vals = torch.tensor(vals, dtype=torch.float32, device=device)\n",
    "\n",
    "        advantages = []\n",
    "        gae = 0.0\n",
    "        for t in reversed(range(len(self.buffer['rews']))):\n",
    "            delta = self.buffer['rews'][t] + gamma * vals[t + 1] * (1 - self.buffer['dones'][t]) - vals[t]\n",
    "            gae = delta + gamma * lam * (1 - self.buffer['dones'][t]) * gae\n",
    "            advantages.insert(0, gae)\n",
    "\n",
    "        advantages = torch.tensor(advantages, dtype=torch.float32, device=device)\n",
    "        returns = advantages + vals[:-1]\n",
    "\n",
    "        obs = torch.tensor(self.buffer['obs'], dtype=torch.float32, device=device)\n",
    "        acts = torch.tensor(self.buffer['acts'], dtype=torch.int64, device=device)\n",
    "        logps = torch.tensor(self.buffer['logps'], dtype=torch.float32, device=device)\n",
    "\n",
    "        # Clear buffer\n",
    "        for key in self.buffer:\n",
    "            self.buffer[key].clear()\n",
    "\n",
    "        return obs, acts, logps, returns, advantages\n",
    "\n",
    "# PPO Agent\n",
    "class PPOAgent:\n",
    "    def __init__(self, obs_dim, act_dim):\n",
    "        self.model = ActorCritic(obs_dim, act_dim).to(device)\n",
    "        self.optimizer = optim.Adam(self.model.parameters(), lr=lr)\n",
    "\n",
    "    def update(self, obs, acts, old_logps, returns, advantages):\n",
    "        advantages = (advantages - advantages.mean()) / (advantages.std() + 1e-8)\n",
    "\n",
    "        for _ in range(ppo_epochs):\n",
    "            idxs = np.random.permutation(len(obs))\n",
    "            for start in range(0, len(obs), batch_size):\n",
    "                end = start + batch_size\n",
    "                mb_idx = idxs[start:end]\n",
    "\n",
    "                mb_obs = obs[mb_idx]\n",
    "                mb_acts = acts[mb_idx]\n",
    "                mb_old_logps = old_logps[mb_idx]\n",
    "                mb_returns = returns[mb_idx]\n",
    "                mb_advantages = advantages[mb_idx]\n",
    "\n",
    "                logps, entropy, values = self.model.evaluate_actions(mb_obs, mb_acts)\n",
    "                ratios = torch.exp(logps - mb_old_logps)\n",
    "\n",
    "                surr1 = ratios * mb_advantages\n",
    "                surr2 = torch.clamp(ratios, 1 - clip_eps, 1 + clip_eps) * mb_advantages\n",
    "                policy_loss = -torch.min(surr1, surr2).mean()\n",
    "\n",
    "                value_loss = ((values - mb_returns)**2).mean()\n",
    "                entropy_bonus = entropy.mean()\n",
    "\n",
    "                loss = policy_loss + 0.5 * value_loss - 0.01 * entropy_bonus\n",
    "\n",
    "                self.optimizer.zero_grad()\n",
    "                loss.backward()\n",
    "                self.optimizer.step()\n",
    "                \n",
    "    def train(self, env, iterations):\n",
    "        for iteration in range(iterations):\n",
    "            obs, _ = env.reset()\n",
    "            buffer = RolloutBuffer()\n",
    "            ep_return = 0\n",
    "            ep_returns = []\n",
    "\n",
    "            for t in range(update_timesteps):\n",
    "                obs_tensor = torch.tensor(obs, dtype=torch.float32, device=device)\n",
    "                action, logp, _, value = self.model.get_action(obs_tensor)\n",
    "\n",
    "                next_obs, reward, terminated, truncated, _ = env.step(action.item())\n",
    "                done = terminated or truncated\n",
    "\n",
    "                buffer.add(obs, action.item(), logp.item(), reward, value.item(), done)\n",
    "                ep_return += reward\n",
    "                obs = next_obs\n",
    "\n",
    "                if done:\n",
    "                    ep_returns.append(ep_return)\n",
    "                    ep_return = 0\n",
    "                    obs, _ = env.reset()\n",
    "\n",
    "            # Print done stats\n",
    "            dones_tensor = torch.tensor(buffer.buffer['dones'], dtype=torch.bool)\n",
    "            unique_vals, counts = torch.unique(dones_tensor, return_counts=True)\n",
    "            for val, count in zip(unique_vals, counts):\n",
    "                print(f\"{val.item()}: {count.item()}\")\n",
    "\n",
    "            # Training step\n",
    "            obs, acts, logps, returns, advantages = buffer.compute_gae(gamma, lam)\n",
    "            self.update(obs, acts, logps, returns, advantages)\n",
    "\n",
    "            # Stats per real episode\n",
    "            ep_returns_np = np.array(ep_returns)\n",
    "            mean_return = ep_returns_np.mean() if len(ep_returns_np) > 0 else 0.0\n",
    "            std_return = ep_returns_np.std(ddof=0) if len(ep_returns_np) > 0 else 0.0\n",
    "\n",
    "            print(f\"Iteration {iteration} | Episodes: {len(ep_returns)} | \"\n",
    "                  f\"Mean Return: {mean_return:.2f} | Std Return: {std_return:.2f}\")"
   ]
  },
  {
   "cell_type": "code",
   "execution_count": null,
   "metadata": {},
   "outputs": [
    {
     "name": "stdout",
     "output_type": "stream",
     "text": [
      "Box(0, 255, (80,), uint8)\n"
     ]
    }
   ],
   "source": [
    "# Training Loop\n",
    "# env = gym.make(env_id)\n",
    "env = make_env()"
   ]
  },
  {
   "cell_type": "code",
   "execution_count": null,
   "metadata": {},
   "outputs": [
    {
     "name": "stdout",
     "output_type": "stream",
     "text": [
      "False: 2024\n",
      "True: 24\n",
      "Iteration 0 | Episodes: 24 | Mean Return: -99.64 | Std Return: 33.16\n"
     ]
    }
   ],
   "source": [
    "obs_dim = env.observation_space.shape[0]\n",
    "act_dim = env.action_space.n\n",
    "\n",
    "agent = PPOAgent(obs_dim, act_dim)\n",
    "\n",
    "agent.train(env, 5)"
   ]
  },
  {
   "cell_type": "code",
   "execution_count": null,
   "metadata": {},
   "outputs": [],
   "source": [
    "# obs, _ = env.reset()\n",
    "# # print(obs)\n",
    "# for i in range(500):\n",
    "#     action = 1\n",
    "#     obs, reward, terminated, truncated, info = env.step(action)\n",
    "#     print(reward, terminated, truncated)\n",
    "#     if (terminated):\n",
    "#         break"
   ]
  }
 ],
 "metadata": {
  "kernelspec": {
   "display_name": "rl_env",
   "language": "python",
   "name": "python3"
  },
  "language_info": {
   "codemirror_mode": {
    "name": "ipython",
    "version": 3
   },
   "file_extension": ".py",
   "mimetype": "text/x-python",
   "name": "python",
   "nbconvert_exporter": "python",
   "pygments_lexer": "ipython3",
   "version": "3.10.16"
  }
 },
 "nbformat": 4,
 "nbformat_minor": 2
}
