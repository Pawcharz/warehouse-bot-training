{
 "cells": [
  {
   "cell_type": "code",
   "execution_count": 1,
   "metadata": {},
   "outputs": [],
   "source": [
    "import torch\n",
    "import torch.nn as nn\n",
    "from torch.distributions.categorical import Categorical\n",
    "from torch.optim import Adam\n",
    "import numpy as np\n",
    "import gym\n",
    "from gym.spaces import Discrete, Box\n",
    "import random\n",
    "\n",
    "from mlagents_envs.environment import UnityEnvironment\n",
    "from mlagents_envs.envs.unity_gym_env import UnityToGymWrapper"
   ]
  },
  {
   "cell_type": "code",
   "execution_count": 2,
   "metadata": {},
   "outputs": [],
   "source": [
    "def mlp(sizes, activation=nn.Tanh, output_activation=nn.Identity):\n",
    "    # Build a feedforward neural network.\n",
    "    layers = []\n",
    "    for j in range(len(sizes)-1):\n",
    "        act = activation if j < len(sizes)-2 else output_activation\n",
    "        layers += [nn.Linear(sizes[j], sizes[j+1]), act()]\n",
    "    return nn.Sequential(*layers)"
   ]
  },
  {
   "cell_type": "code",
   "execution_count": 3,
   "metadata": {},
   "outputs": [],
   "source": [
    "def reward_to_go(rews):\n",
    "    n = len(rews)\n",
    "    rtgs = np.zeros_like(rews)\n",
    "    for i in reversed(range(n)):\n",
    "        rtgs[i] = rews[i] + (rtgs[i+1] if i+1 < n else 0)\n",
    "    return rtgs"
   ]
  },
  {
   "cell_type": "code",
   "execution_count": 4,
   "metadata": {},
   "outputs": [],
   "source": [
    "env_path = \"C:/Users/Pawel/Documents/Unity_Project/warehouse-bot-training/environment_builds/test_env\""
   ]
  },
  {
   "cell_type": "code",
   "execution_count": null,
   "metadata": {},
   "outputs": [],
   "source": [
    "from mlagents_envs.side_channel.engine_configuration_channel import EngineConfigurationChannel\n",
    "\n",
    "channel = EngineConfigurationChannel()\n",
    "\n",
    "\n",
    "unity_env = UnityEnvironment(file_name=env_path, side_channels=[channel])\n",
    "channel.set_configuration_parameters(time_scale = 5.0)\n",
    "env = UnityToGymWrapper(unity_env, allow_multiple_obs=True)"
   ]
  },
  {
   "cell_type": "code",
   "execution_count": 6,
   "metadata": {},
   "outputs": [],
   "source": [
    "device = \"cuda\" if torch.cuda.is_available() else \"cpu\""
   ]
  },
  {
   "cell_type": "code",
   "execution_count": 7,
   "metadata": {},
   "outputs": [],
   "source": [
    "# import torch\n",
    "# from torch.optim import Adam\n",
    "# from torch.distributions.categorical import Categorical\n",
    "# from mlagents_envs.environment import UnityEnvironment\n",
    "# from gym_unity.envs import UnityToGymWrapper\n",
    "# import numpy as np\n",
    "\n",
    "# # Set the device to GPU\n",
    "# device = \"cuda\" if torch.cuda.is_available() else \"cpu\"\n",
    "\n",
    "# unity_env = UnityEnvironment(file_name=env_path, no_graphics=False)\n",
    "# env = UnityToGymWrapper(unity_env, allow_multiple_obs=True)\n",
    "\n",
    "def train(env, hidden_sizes=[32], lr=1e-2, epochs=50, batch_size=1000, exp_factor = 0.05, render=False):\n",
    "    obs_dim = np.array(env.reset()).shape[1]\n",
    "    n_acts = env.action_space.n\n",
    "    print(n_acts, obs_dim)\n",
    "\n",
    "    # Define the policy network and move it to GPU\n",
    "    logits_net = mlp(sizes=[obs_dim] + hidden_sizes + [n_acts]).to(device)\n",
    "\n",
    "    def get_policy(obs):\n",
    "        logits = logits_net(obs)\n",
    "        return Categorical(logits=logits)\n",
    "\n",
    "    def get_action(obs):\n",
    "        draw = random.random()\n",
    "        \n",
    "        if draw <= exp_factor:\n",
    "            # Return random action\n",
    "            action = random.randrange(n_acts)\n",
    "            return action\n",
    "        \n",
    "        return get_policy(obs).sample().item() \n",
    "\n",
    "    def compute_loss(obs, act, weights):\n",
    "        logp = get_policy(obs).log_prob(act)\n",
    "        return -(logp * weights).mean()\n",
    "\n",
    "    optimizer = Adam(logits_net.parameters(), lr=lr)\n",
    "\n",
    "    def train_one_epoch(env):\n",
    "        batch_obs = []\n",
    "        batch_acts = []\n",
    "        batch_weights = []\n",
    "        batch_rets = []\n",
    "        batch_lens = []\n",
    "\n",
    "        obs = env.reset()\n",
    "        done = False\n",
    "        ep_rews = []\n",
    "        finished_rendering_this_epoch = False\n",
    "\n",
    "        while True:\n",
    "            batch_obs.append(obs.copy())\n",
    "            act = get_action(torch.as_tensor(obs, dtype=torch.float32).to(device))\n",
    "            obs, rew, done, _ = env.step(act)\n",
    "\n",
    "            batch_acts.append(act)\n",
    "            ep_rews.append(rew)\n",
    "\n",
    "            if done:\n",
    "                ep_ret, ep_len = sum(ep_rews), len(ep_rews)\n",
    "                batch_rets.append(ep_ret)\n",
    "                batch_lens.append(ep_len)\n",
    "                batch_weights += list(reward_to_go(ep_rews))\n",
    "                obs = env.reset()\n",
    "                done, ep_rews = False, []\n",
    "\n",
    "                finished_rendering_this_epoch = True\n",
    "                if len(batch_obs) > batch_size:\n",
    "                    break\n",
    "\n",
    "        optimizer.zero_grad()\n",
    "        batch_loss = compute_loss(\n",
    "            obs=torch.as_tensor(batch_obs, dtype=torch.float32).to(device),\n",
    "            act=torch.as_tensor(batch_acts, dtype=torch.int32).to(device),\n",
    "            weights=torch.as_tensor(batch_weights, dtype=torch.float32).to(device)\n",
    "        )\n",
    "        batch_loss.backward()\n",
    "        optimizer.step()\n",
    "        return batch_loss, batch_rets, batch_lens\n",
    "\n",
    "    for i in range(epochs):\n",
    "        batch_loss, batch_rets, batch_lens = train_one_epoch(env)\n",
    "        print(f'epoch: {i:3d} \\t loss: {batch_loss:.3f} \\t return: {np.mean(batch_rets):.3f} \\t ep_len: {np.mean(batch_lens):.3f}')\n"
   ]
  },
  {
   "cell_type": "code",
   "execution_count": null,
   "metadata": {},
   "outputs": [],
   "source": [
    "train(env, hidden_sizes=[256, 256, 128], lr=1e-3, batch_size=4000, exp_factor=0.1)"
   ]
  }
 ],
 "metadata": {
  "kernelspec": {
   "display_name": "mlagents_env",
   "language": "python",
   "name": "python3"
  },
  "language_info": {
   "codemirror_mode": {
    "name": "ipython",
    "version": 3
   },
   "file_extension": ".py",
   "mimetype": "text/x-python",
   "name": "python",
   "nbconvert_exporter": "python",
   "pygments_lexer": "ipython3",
   "version": "3.8.20"
  }
 },
 "nbformat": 4,
 "nbformat_minor": 2
}
