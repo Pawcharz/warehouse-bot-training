{
 "cells": [
  {
   "cell_type": "code",
   "execution_count": 1,
   "metadata": {},
   "outputs": [],
   "source": [
    "import warnings\n",
    "warnings.filterwarnings(\"ignore\")\n",
    "\n",
    "import torch\n",
    "from torch import multiprocessing"
   ]
  },
  {
   "cell_type": "code",
   "execution_count": 2,
   "metadata": {},
   "outputs": [],
   "source": [
    "is_fork = multiprocessing.get_start_method() == \"fork\"\n",
    "\n",
    "device = (\n",
    "    torch.device(0)\n",
    "    if torch.cuda.is_available() and not is_fork\n",
    "    else torch.device(\"cpu\")\n",
    ")"
   ]
  },
  {
   "cell_type": "markdown",
   "metadata": {},
   "source": [
    "## Environment Preparation"
   ]
  },
  {
   "cell_type": "markdown",
   "metadata": {},
   "source": [
    "#### Load unity environment using `mlagents_envs`"
   ]
  },
  {
   "cell_type": "markdown",
   "metadata": {},
   "source": [
    "#### Transform environment from `mlagents` to `gymnasium`"
   ]
  },
  {
   "cell_type": "code",
   "execution_count": 3,
   "metadata": {},
   "outputs": [
    {
     "name": "stdout",
     "output_type": "stream",
     "text": [
      "1.1.1\n"
     ]
    }
   ],
   "source": [
    "import gymnasium as gym\n",
    "print(gym.__version__)"
   ]
  },
  {
   "cell_type": "code",
   "execution_count": 4,
   "metadata": {},
   "outputs": [],
   "source": [
    "from mlagents_envs.side_channel.engine_configuration_channel import EngineConfigurationChannel\n",
    "from mlagents_envs.environment import UnityEnvironment\n",
    "\n",
    "from stable_baselines3.common.monitor import Monitor\n",
    "from stable_baselines3.common.vec_env import DummyVecEnv, VecNormalize, VecTransposeImage\n",
    "from env_camera_gymnasium_wrapper import UnityCameraGymWrapper\n",
    "from env_camera_raycasts_gymnasium_wrapper import UnityCameraRaycastsGymWrapper\n",
    "\n",
    "def make_env():\n",
    "\n",
    "  channel = EngineConfigurationChannel()\n",
    "  env_path = \"D:/_Thesis/warehouse-bot-training/environment_builds/warehouse_stage2_find_potential_dist_spedup/Warehouse_Bot.exe\"\n",
    "\n",
    "  unity_env = UnityEnvironment(\n",
    "    file_name=env_path,\n",
    "    side_channels=[channel],\n",
    "    # additional_args=[\"-batchmode\", \"-nographics\"]\n",
    "  )\n",
    "  \n",
    "  channel.set_configuration_parameters(time_scale=1)\n",
    "  \n",
    "  gymnasium_env = UnityCameraRaycastsGymWrapper(unity_env)\n",
    "  gymnasium_env = Monitor(gymnasium_env)\n",
    "  \n",
    "  print(gymnasium_env.observation_space)\n",
    "  \n",
    "  return gymnasium_env"
   ]
  },
  {
   "cell_type": "code",
   "execution_count": 5,
   "metadata": {},
   "outputs": [
    {
     "name": "stdout",
     "output_type": "stream",
     "text": [
      "<mlagents_envs.environment.UnityEnvironment object at 0x000001C3DEB571C0>\n",
      "Dict('image': Box(0, 255, (3, 36, 64), uint8), 'vector': Box(0.0, 255.0, (100,), float32))\n"
     ]
    }
   ],
   "source": [
    "env = DummyVecEnv([make_env])\n",
    "env = VecNormalize(env, norm_obs=True, norm_reward=False, clip_obs=1.)"
   ]
  },
  {
   "cell_type": "markdown",
   "metadata": {},
   "source": [
    "#### Creating stable_baselines3 model"
   ]
  },
  {
   "cell_type": "markdown",
   "metadata": {},
   "source": [
    "##### Building own network"
   ]
  },
  {
   "cell_type": "markdown",
   "metadata": {},
   "source": [
    "PPO Hyperparams from mlagents-learn config file\n",
    "\n",
    "```yaml\n",
    "behaviors:\n",
    "  Dlivery_Bot_2:\n",
    "    trainer_type: ppo\n",
    "    hyperparameters:\n",
    "      batch_size: 512\n",
    "      buffer_size: 2560\n",
    "      learning_rate: 0.0003\n",
    "      beta: 0.005\n",
    "      epsilon: 0.2\n",
    "      lambd: 0.95\n",
    "      num_epoch: 3\n",
    "      learning_rate_schedule: linear\n",
    "    network_settings:\n",
    "      normalize: True\n",
    "      hidden_units: 256\n",
    "      num_layers: 2\n",
    "      vis_encode_type: simple\n",
    "    reward_signals:\n",
    "      extrinsic:\n",
    "        gamma: 0.99\n",
    "        strength: 1.0\n",
    "    keep_checkpoints: 5\n",
    "    checkpoint_interval: 100000\n",
    "    max_steps: 4000000\n",
    "    time_horizon: 1024\n",
    "    summary_freq: 10000\n",
    "    # threaded: False\n",
    "```"
   ]
  },
  {
   "cell_type": "markdown",
   "metadata": {},
   "source": [
    "#### Policy Config"
   ]
  },
  {
   "cell_type": "code",
   "execution_count": 6,
   "metadata": {},
   "outputs": [],
   "source": [
    "import torch as th\n",
    "import torch.nn as nn\n",
    "import gymnasium as gym\n",
    "from stable_baselines3.common.torch_layers import BaseFeaturesExtractor\n",
    "\n",
    "class CustomCombinedExtractor(BaseFeaturesExtractor):\n",
    "    def __init__(self, observation_space: gym.spaces.Dict, features_dim: int = 256):\n",
    "        super().__init__(observation_space, features_dim)\n",
    "\n",
    "        # Shapes of image and vector inputs: [<batch size>, <bands, height, width>], [<batch size>, <length>]\n",
    "        \n",
    "        # Create a sub-extractor for each modality\n",
    "        # For images of size: 3x36x64\n",
    "        self.image_enc_net = nn.Sequential(\n",
    "            nn.Conv2d(3, 16, kernel_size=3, stride=2),\n",
    "            nn.ReLU(),\n",
    "            nn.AvgPool2d(2, stride=2),\n",
    "            nn.Conv2d(16, 16, kernel_size=3, stride=2),\n",
    "            nn.ReLU(),\n",
    "            nn.AvgPool2d(2, stride=2),\n",
    "            nn.Flatten(),\n",
    "            nn.Linear(48, 32),\n",
    "            nn.ReLU(),\n",
    "        )\n",
    "        \n",
    "        # Compute output shape of CNN dynamically\n",
    "        with th.no_grad():\n",
    "            sample_image = th.as_tensor(observation_space.spaces[\"image\"].sample()[None]).float()\n",
    "            cnn_output_size = self.image_enc_net(sample_image).shape[1]\n",
    "            \n",
    "        # # Get size of the vector data dynamically\n",
    "        # with th.no_grad():\n",
    "        #     vector_input_size = observation_space.spaces[\"vector\"].sample().shape[0]\n",
    "\n",
    "        # self.vector_enc_net = nn.Sequential(\n",
    "        #     nn.Linear(vector_input_size, 64),\n",
    "        #     nn.Linear(64, 12),\n",
    "        #     nn.ReLU(),\n",
    "        # )\n",
    "        \n",
    "        # # Get  output shape of the vector NN dynamically\n",
    "        # with th.no_grad():\n",
    "        #     sample_vector = th.as_tensor(observation_space.spaces[\"vector\"].sample()).float()\n",
    "        #     vector_network_output_size = self.vector_enc_net(sample_vector).shape[0]\n",
    "\n",
    "        # # Final linear layer\n",
    "        # self.linear = nn.Sequential(\n",
    "        #     nn.Linear(cnn_output_size + vector_network_output_size, features_dim),\n",
    "        #     nn.ReLU()\n",
    "        # )\n",
    "\n",
    "    def forward(self, observations):\n",
    "        image = observations[\"image\"].float()\n",
    "        vector = observations[\"vector\"]\n",
    "\n",
    "        image_features = self.image_enc_net(image)\n",
    "        return image_features\n",
    "        # vector_features = self.vector_enc_net(vector)\n",
    "\n",
    "        # combined = th.cat([image_features, vector_features], dim=1)\n",
    "        # return self.linear(combined)\n"
   ]
  },
  {
   "cell_type": "markdown",
   "metadata": {},
   "source": [
    "#### Decaying Entropy Coefficient"
   ]
  },
  {
   "cell_type": "code",
   "execution_count": 7,
   "metadata": {},
   "outputs": [],
   "source": [
    "from stable_baselines3.common.callbacks import BaseCallback\n",
    "\n",
    "class DecayingEntropyCalback(BaseCallback):\n",
    "    def __init__(self, initial_value=0.1, final_value=0.01, max_steps=100_000, verbose=0):\n",
    "        super().__init__(verbose)\n",
    "        self.initial_value = initial_value\n",
    "        self.final_value = final_value\n",
    "        self.max_steps = max_steps\n",
    "\n",
    "    def _on_step(self) -> bool:\n",
    "        progress = min(1.0, self.num_timesteps / self.max_steps)\n",
    "        current_ent_coef = self.initial_value * (1.0 - progress) + self.final_value * progress\n",
    "        self.model.ent_coef = current_ent_coef\n",
    "        return True"
   ]
  },
  {
   "cell_type": "markdown",
   "metadata": {},
   "source": [
    "#### Training Algorithm"
   ]
  },
  {
   "cell_type": "code",
   "execution_count": 8,
   "metadata": {},
   "outputs": [
    {
     "name": "stdout",
     "output_type": "stream",
     "text": [
      "Using cuda device\n"
     ]
    }
   ],
   "source": [
    "from stable_baselines3 import PPO\n",
    "\n",
    "policy_kwargs = dict(\n",
    "    features_extractor_class=CustomCombinedExtractor,\n",
    "    features_extractor_kwargs=dict(features_dim=32),\n",
    "    net_arch=[dict(pi=[20, 12], vf=[16, 8])],\n",
    "    activation_fn=nn.ReLU\n",
    ")\n",
    "\n",
    "model = PPO(\"MultiInputPolicy\",\n",
    "            env, verbose=1,\n",
    "            learning_rate=3e-4,\n",
    "            n_steps=2560,\n",
    "            batch_size=512,\n",
    "            n_epochs=10,\n",
    "            clip_range=0.2,\n",
    "            gamma=0.99,\n",
    "            gae_lambda=0.95,\n",
    "            seed=0,\n",
    "            ent_coef=0.1,\n",
    "            vf_coef=0.005,\n",
    "            policy_kwargs=policy_kwargs,\n",
    "            # tensorboard_log = './logs/stage2',\n",
    "            # stats_window_size=1\n",
    ")\n",
    "\n",
    "# model = PPO.load('./saved_models/baselines/stage2/find_1_500k.zip', env=gymnasium_env, tensorboard_log='./logs/stage2')"
   ]
  },
  {
   "cell_type": "code",
   "execution_count": 9,
   "metadata": {},
   "outputs": [],
   "source": [
    "# model.policy"
   ]
  },
  {
   "cell_type": "code",
   "execution_count": 10,
   "metadata": {},
   "outputs": [],
   "source": [
    "def get_n_params(model):\n",
    "    pp=0\n",
    "    for p in list(model.parameters()):\n",
    "        nn=1\n",
    "        for s in list(p.size()):\n",
    "            nn = nn*s\n",
    "        pp += nn\n",
    "    return pp"
   ]
  },
  {
   "cell_type": "code",
   "execution_count": 11,
   "metadata": {},
   "outputs": [
    {
     "name": "stdout",
     "output_type": "stream",
     "text": [
      "5960\n"
     ]
    }
   ],
   "source": [
    "print(get_n_params(model.policy))"
   ]
  },
  {
   "cell_type": "code",
   "execution_count": null,
   "metadata": {},
   "outputs": [
    {
     "name": "stdout",
     "output_type": "stream",
     "text": [
      "---------------------------------\n",
      "| rollout/           |          |\n",
      "|    ep_len_mean     | 95.7     |\n",
      "|    ep_rew_mean     | -18.9    |\n",
      "| time/              |          |\n",
      "|    fps             | 38       |\n",
      "|    iterations      | 1        |\n",
      "|    time_elapsed    | 66       |\n",
      "|    total_timesteps | 2560     |\n",
      "---------------------------------\n"
     ]
    }
   ],
   "source": [
    "model.learn(total_timesteps=500_000, tb_log_name=\"find_2_potential_dist_4\", reset_num_timesteps=False)"
   ]
  },
  {
   "cell_type": "code",
   "execution_count": null,
   "metadata": {},
   "outputs": [],
   "source": [
    "# decayingEntropyCallback = DecayingEntropyCalback(initial_value=0.02, final_value=0.005, max_steps=100_000)\n",
    "# model.learn(total_timesteps=100_000, tb_log_name=\"find_2_potential_dist_4\", reset_num_timesteps=False, callback=decayingEntropyCallback)"
   ]
  }
 ],
 "metadata": {
  "kernelspec": {
   "display_name": "rl_env",
   "language": "python",
   "name": "python3"
  },
  "language_info": {
   "codemirror_mode": {
    "name": "ipython",
    "version": 3
   },
   "file_extension": ".py",
   "mimetype": "text/x-python",
   "name": "python",
   "nbconvert_exporter": "python",
   "pygments_lexer": "ipython3",
   "version": "3.10.16"
  }
 },
 "nbformat": 4,
 "nbformat_minor": 2
}
