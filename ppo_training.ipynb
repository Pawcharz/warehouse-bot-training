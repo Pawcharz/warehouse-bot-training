{
 "cells": [
  {
   "cell_type": "code",
   "execution_count": null,
   "metadata": {},
   "outputs": [],
   "source": [
    "import warnings\n",
    "warnings.filterwarnings(\"ignore\")\n",
    "\n",
    "import torch\n",
    "from torch import multiprocessing"
   ]
  },
  {
   "cell_type": "code",
   "execution_count": null,
   "metadata": {},
   "outputs": [],
   "source": [
    "is_fork = multiprocessing.get_start_method() == \"fork\"\n",
    "\n",
    "device = (\n",
    "    torch.device(0)\n",
    "    if torch.cuda.is_available() and not is_fork\n",
    "    else torch.device(\"cpu\")\n",
    ")"
   ]
  },
  {
   "cell_type": "markdown",
   "metadata": {},
   "source": [
    "## Environment Preparation"
   ]
  },
  {
   "cell_type": "markdown",
   "metadata": {},
   "source": [
    "#### Load unity environment using `mlagents_envs`"
   ]
  },
  {
   "cell_type": "code",
   "execution_count": null,
   "metadata": {},
   "outputs": [],
   "source": [
    "from mlagents_envs.side_channel.engine_configuration_channel import EngineConfigurationChannel\n",
    "from mlagents_envs.environment import UnityEnvironment\n",
    "\n",
    "channel = EngineConfigurationChannel()\n",
    "env_path = \"D:/_Thesis/warehouse-bot-training/environment_builds/warehouse_stage2_find/Warehouse_Bot.exe\"\n",
    "\n",
    "unity_env = UnityEnvironment(\n",
    "  file_name=env_path,\n",
    "  side_channels=[channel],\n",
    "  additional_args=[\"-batchmode\", \"-nographics\"]\n",
    ")\n",
    "channel.set_configuration_parameters(time_scale=50)"
   ]
  },
  {
   "cell_type": "markdown",
   "metadata": {},
   "source": [
    "#### Transform environment from `mlagents` to `gymnasium`"
   ]
  },
  {
   "cell_type": "code",
   "execution_count": null,
   "metadata": {},
   "outputs": [],
   "source": [
    "import gymnasium as gym\n",
    "print(gym.__version__)"
   ]
  },
  {
   "cell_type": "code",
   "execution_count": null,
   "metadata": {},
   "outputs": [],
   "source": [
    "from env_camera_raycasts_gymnasium_wrapper import UnityCameraRaycastsGymWrapper\n",
    "\n",
    "gymnasium_env = UnityCameraRaycastsGymWrapper(unity_env)"
   ]
  },
  {
   "cell_type": "markdown",
   "metadata": {},
   "source": [
    "#### Creating stable_baselines3 model"
   ]
  },
  {
   "cell_type": "markdown",
   "metadata": {},
   "source": [
    "##### Building own network"
   ]
  },
  {
   "cell_type": "markdown",
   "metadata": {},
   "source": [
    "PPO Hyperparams from mlagents-learn config file\n",
    "\n",
    "```yaml\n",
    "behaviors:\n",
    "  Dlivery_Bot_2:\n",
    "    trainer_type: ppo\n",
    "    hyperparameters:\n",
    "      batch_size: 512\n",
    "      buffer_size: 2560\n",
    "      learning_rate: 0.0003\n",
    "      beta: 0.005\n",
    "      epsilon: 0.2\n",
    "      lambd: 0.95\n",
    "      num_epoch: 3\n",
    "      learning_rate_schedule: linear\n",
    "    network_settings:\n",
    "      normalize: True\n",
    "      hidden_units: 256\n",
    "      num_layers: 2\n",
    "      vis_encode_type: simple\n",
    "    reward_signals:\n",
    "      extrinsic:\n",
    "        gamma: 0.99\n",
    "        strength: 1.0\n",
    "    keep_checkpoints: 5\n",
    "    checkpoint_interval: 100000\n",
    "    max_steps: 4000000\n",
    "    time_horizon: 1024\n",
    "    summary_freq: 10000\n",
    "    # threaded: False\n",
    "```"
   ]
  },
  {
   "cell_type": "markdown",
   "metadata": {},
   "source": [
    "#### Policy Config"
   ]
  },
  {
   "cell_type": "code",
   "execution_count": null,
   "metadata": {},
   "outputs": [],
   "source": [
    "import torch as th\n",
    "import torch.nn as nn\n",
    "import gymnasium as gym\n",
    "from gymnasium import spaces\n",
    "from stable_baselines3.common.torch_layers import BaseFeaturesExtractor\n",
    "\n",
    "class CustomCombinedExtractor(BaseFeaturesExtractor):\n",
    "    def __init__(self, observation_space: gym.spaces.Dict, features_dim: int = 256):\n",
    "        super().__init__(observation_space, features_dim)\n",
    "\n",
    "        # Shapes of image and vector inputs: [<batch size>, <bands, height, width>], [<batch size>, <length>]\n",
    "        \n",
    "        # Create a sub-extractor for each modality\n",
    "        # For images of size: 3x144x256\n",
    "        self.image_net = nn.Sequential(\n",
    "            nn.Conv2d(3, 16, kernel_size=3, stride=2, padding=1),\n",
    "            nn.ReLU(inplace=True),\n",
    "            nn.Conv2d(16, 32, kernel_size=3, stride=2, padding=1),\n",
    "            nn.ReLU(inplace=True),\n",
    "            nn.Conv2d(32, 64, kernel_size=3, stride=2, padding=1),\n",
    "            nn.ReLU(inplace=True),\n",
    "            nn.Conv2d(64, 128, kernel_size=3, stride=2, padding=1),\n",
    "            nn.ReLU(inplace=True),\n",
    "            nn.Conv2d(128, 128, kernel_size=3, stride=2, padding=1),\n",
    "            nn.ReLU(inplace=True),\n",
    "            nn.AdaptiveAvgPool2d((1, 1)),\n",
    "            nn.Flatten(),\n",
    "            nn.Linear(128, 64),\n",
    "            nn.ReLU(inplace=True),\n",
    "            nn.Linear(64, 64)\n",
    "        )\n",
    "        \n",
    "        # Compute output shape of CNN dynamically\n",
    "        with th.no_grad():\n",
    "            sample_image = th.as_tensor(observation_space.spaces[\"image\"].sample()[None]).float()\n",
    "            print(sample_image.shape)\n",
    "            cnn_output_size = self.image_net(sample_image).shape[1]\n",
    "            print(self.image_net(sample_image).shape)\n",
    "            \n",
    "        # Get size of the vector data dynamically\n",
    "        with th.no_grad():\n",
    "            vector_input_size = observation_space.spaces[\"vector\"].sample().shape[0]\n",
    "\n",
    "        self.vector_net = nn.Sequential(\n",
    "            nn.Linear(vector_input_size, 32),\n",
    "            nn.ReLU()\n",
    "        )\n",
    "        \n",
    "        # Get  output shape of the vector NN dynamically\n",
    "        with th.no_grad():\n",
    "            sample_vector = th.as_tensor(observation_space.spaces[\"vector\"].sample()).float()\n",
    "            vector_network_output_size = self.vector_net(sample_vector).shape[0]\n",
    "\n",
    "        # Final linear layer\n",
    "        self.linear = nn.Sequential(\n",
    "            nn.Linear(cnn_output_size + vector_network_output_size, features_dim),\n",
    "            nn.ReLU()\n",
    "        )\n",
    "\n",
    "    def forward(self, observations):\n",
    "        image = observations[\"image\"].float() / 255.0  # Normalize if needed\n",
    "        vector = observations[\"vector\"]\n",
    "\n",
    "        image_features = self.image_net(image)\n",
    "        vector_features = self.vector_net(vector)\n",
    "\n",
    "        combined = th.cat([image_features, vector_features], dim=1)\n",
    "        return self.linear(combined)\n"
   ]
  },
  {
   "cell_type": "code",
   "execution_count": null,
   "metadata": {},
   "outputs": [],
   "source": [
    "from stable_baselines3 import PPO\n",
    "import torch.nn as nn\n",
    "\n",
    "policy_kwargs = dict(\n",
    "    features_extractor_class=CustomCombinedExtractor,\n",
    "    features_extractor_kwargs=dict(features_dim=128),\n",
    ")\n",
    "\n",
    "# model = PPO(\"MultiInputPolicy\",\n",
    "#             gymnasium_env, verbose=1,\n",
    "#             learning_rate=3e-4,\n",
    "#             n_steps=10240,\n",
    "#             batch_size=512,\n",
    "#             n_epochs=8,\n",
    "#             clip_range=0.2,\n",
    "#             gamma=0.995,\n",
    "#             gae_lambda=0.96,\n",
    "#             seed=0,\n",
    "#             ent_coef=0.005,\n",
    "#             vf_coef=0.5,\n",
    "#             policy_kwargs=policy_kwargs,\n",
    "#             tensorboard_log = './logs/stage2'\n",
    "# )\n",
    "\n",
    "model = PPO(\"MultiInputPolicy\",\n",
    "            gymnasium_env, verbose=1,\n",
    "            learning_rate=3e-4,\n",
    "            n_steps=512,\n",
    "            batch_size=512,\n",
    "            n_epochs=2,\n",
    "            clip_range=0.2,\n",
    "            gamma=0.995,\n",
    "            gae_lambda=0.96,\n",
    "            seed=0,\n",
    "            ent_coef=0.005,\n",
    "            vf_coef=0.5,\n",
    "            policy_kwargs=policy_kwargs,\n",
    "            tensorboard_log = './logs/stage2'\n",
    ")\n",
    "\n",
    "# model.tensorboard_log = './logs/stage2'"
   ]
  },
  {
   "cell_type": "code",
   "execution_count": null,
   "metadata": {},
   "outputs": [],
   "source": [
    "print(model.policy.features_extractor)"
   ]
  },
  {
   "cell_type": "code",
   "execution_count": null,
   "metadata": {},
   "outputs": [],
   "source": [
    "model.learn(total_timesteps=100_000, tb_log_name=\"find_warehouse_1_spike\", reset_num_timesteps=False)"
   ]
  }
 ],
 "metadata": {
  "kernelspec": {
   "display_name": "rl_env",
   "language": "python",
   "name": "python3"
  },
  "language_info": {
   "codemirror_mode": {
    "name": "ipython",
    "version": 3
   },
   "file_extension": ".py",
   "mimetype": "text/x-python",
   "name": "python",
   "nbconvert_exporter": "python",
   "pygments_lexer": "ipython3",
   "version": "3.10.16"
  }
 },
 "nbformat": 4,
 "nbformat_minor": 2
}
