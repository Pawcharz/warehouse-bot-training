{
 "cells": [
  {
   "cell_type": "code",
   "execution_count": 1,
   "metadata": {},
   "outputs": [],
   "source": [
    "\n",
    "import warnings\n",
    "warnings.filterwarnings(\"ignore\")\n",
    "\n",
    "import torch as th\n",
    "from torch import multiprocessing\n",
    "import numpy as np\n",
    "\n",
    "# Environment imports\n",
    "from src.environments.env_utils import make_env"
   ]
  },
  {
   "cell_type": "code",
   "execution_count": null,
   "metadata": {},
   "outputs": [],
   "source": [
    "print(\"Starting PPO Training for Warehouse Stage1 Complex Pos Neg 3...\")\n",
    "\n",
    "# Setup device\n",
    "is_fork = multiprocessing.get_start_method() == \"fork\"\n",
    "device = (\n",
    "    th.device(0)\n",
    "    if th.cuda.is_available() and not is_fork\n",
    "    else th.device(\"cpu\")\n",
    ")\n",
    "print(f\"Using device: {device}\")\n",
    "\n",
    "# Create environment\n",
    "print(\"\\nCreating environment...\")\n",
    "env = make_env(time_scale=1, no_graphics=False, verbose=True, env_type=\"multimodal\", env_path='environment_builds/stage2/S2_Find_Items_64x36camera120deg_rew0_100/Warehouse_Bot.exe')\n",
    "\n",
    "print(env.observation_space)"
   ]
  },
  {
   "cell_type": "code",
   "execution_count": null,
   "metadata": {},
   "outputs": [],
   "source": [
    "from src.models.actor_critic import ActorCriticMultimodal\n",
    "\n",
    "# Get observation and action space info\n",
    "image_shape = env.observation_space['visual'].shape\n",
    "vector_shape = env.observation_space['vector'].shape[0]\n",
    "n_actions = env.action_space.n\n",
    "\n",
    "print(image_shape)\n",
    "print(vector_shape)\n",
    "print(n_actions)\n",
    "\n",
    "# Instantiate the ActorCriticMultimodal model\n",
    "model = ActorCriticMultimodal(act_dim=n_actions, visual_obs_size=image_shape, vector_obs_size=vector_shape, device=device)\n",
    "\n",
    "for episode in range(10):\n",
    "    obs, _ = env.reset(seed=episode)\n",
    "    # print('obs', obs)\n",
    "    done = False\n",
    "    truncated = False\n",
    "\n",
    "    while not (done or truncated):\n",
    "\n",
    "        # Get action from model\n",
    "        with th.no_grad():\n",
    "            action, _, _, _ = model.get_action(obs)\n",
    "        # Take action in environment\n",
    "        obs, reward, done, truncated, _ = env.step(action.item())"
   ]
  }
 ],
 "metadata": {
  "kernelspec": {
   "display_name": "rl_env",
   "language": "python",
   "name": "python3"
  },
  "language_info": {
   "codemirror_mode": {
    "name": "ipython",
    "version": 3
   },
   "file_extension": ".py",
   "mimetype": "text/x-python",
   "name": "python",
   "nbconvert_exporter": "python",
   "pygments_lexer": "ipython3",
   "version": "3.10.16"
  }
 },
 "nbformat": 4,
 "nbformat_minor": 2
}
