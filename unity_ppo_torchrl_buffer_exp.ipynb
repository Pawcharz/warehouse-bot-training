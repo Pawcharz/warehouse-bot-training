{
 "cells": [
  {
   "cell_type": "markdown",
   "metadata": {},
   "source": [
    "## DISCLAIMER\n",
    "\n",
    "This is implementation from pyTorch tutorials - https://pytorch.org/tutorials/intermediate/reinforcement_ppo.html\n",
    "\n",
    "They use some weird convention of naming value network as critic network and policy network as actor network. This is not only the matter of this notebook or their tutorial but also the parameters withing torchrl library"
   ]
  },
  {
   "cell_type": "markdown",
   "metadata": {},
   "source": [
    "## Importing Packages"
   ]
  },
  {
   "cell_type": "code",
   "execution_count": 1,
   "metadata": {},
   "outputs": [],
   "source": [
    "import warnings\n",
    "warnings.filterwarnings(\"ignore\")\n",
    "from torch import multiprocessing\n",
    "\n",
    "\n",
    "from collections import defaultdict\n",
    "\n",
    "import matplotlib.pyplot as plt\n",
    "import torch\n",
    "from tensordict.nn import TensorDictModule\n",
    "from tensordict.nn.distributions import NormalParamExtractor\n",
    "from torch import nn\n",
    "from torchrl.collectors import SyncDataCollector\n",
    "from torchrl.data.replay_buffers import ReplayBuffer\n",
    "from torchrl.data.replay_buffers.samplers import SamplerWithoutReplacement\n",
    "from torchrl.data.replay_buffers.storages import LazyTensorStorage\n",
    "from torchrl.envs import (Compose, DoubleToFloat, ObservationNorm, StepCounter,\n",
    "                          TransformedEnv)\n",
    "from torchrl.envs.libs.gym import GymEnv\n",
    "from torchrl.envs.utils import check_env_specs, ExplorationType, set_exploration_type\n",
    "from torchrl.modules import ProbabilisticActor, TanhNormal, OneHotCategorical, ValueOperator\n",
    "from torchrl.objectives import ClipPPOLoss\n",
    "from torchrl.objectives.value import GAE\n",
    "from tqdm import tqdm"
   ]
  },
  {
   "cell_type": "markdown",
   "metadata": {},
   "source": [
    "## Hyperparameters"
   ]
  },
  {
   "cell_type": "code",
   "execution_count": 2,
   "metadata": {},
   "outputs": [],
   "source": [
    "is_fork = multiprocessing.get_start_method() == \"fork\"\n",
    "device = (\n",
    "    torch.device(0)\n",
    "    if torch.cuda.is_available() and not is_fork\n",
    "    else torch.device(\"cpu\")\n",
    ")\n",
    "\n",
    "num_cells = 256  # number of cells in each layer i.e. output dim.\n",
    "lr = 3e-4\n",
    "max_grad_norm = 1.0"
   ]
  },
  {
   "cell_type": "markdown",
   "metadata": {},
   "source": [
    "### Data Collection"
   ]
  },
  {
   "cell_type": "code",
   "execution_count": 3,
   "metadata": {},
   "outputs": [],
   "source": [
    "# buffer_size = 10000\n",
    "# batch_size = 1000 # Number of frames per batch\n",
    "# For a complete training, bring the number of frames up to 1M\n",
    "total_frames = 250_000 # total size of frames to train on\n",
    "max_steps = 500"
   ]
  },
  {
   "cell_type": "markdown",
   "metadata": {},
   "source": [
    "### PPO parameters"
   ]
  },
  {
   "cell_type": "code",
   "execution_count": 4,
   "metadata": {},
   "outputs": [],
   "source": [
    "batch_size = 10240 # Number of frames per batch\n",
    "sub_batch_size = 1024  # cardinality of the sub-samples gathered from the current data in the inner loop\n",
    "\n",
    "num_epochs = 2  # optimization steps per batch of data collected\n",
    "clip_epsilon = (\n",
    "    0.2  # clip value for PPO loss: see the equation in the intro for more context.\n",
    ")\n",
    "gamma = 0.99\n",
    "lmbda = 0.95\n",
    "entropy_eps = 0.005"
   ]
  },
  {
   "cell_type": "markdown",
   "metadata": {},
   "source": [
    "## Environment"
   ]
  },
  {
   "cell_type": "code",
   "execution_count": 5,
   "metadata": {},
   "outputs": [],
   "source": [
    "import gym\n",
    "import numpy as np\n",
    "\n",
    "from mlagents_envs.side_channel.engine_configuration_channel import EngineConfigurationChannel\n",
    "from mlagents_envs.environment import UnityEnvironment\n",
    "from mlagents_envs.envs.unity_gym_env import UnityToGymWrapper\n",
    "from torchrl.envs import GymWrapper, TransformedEnv, Compose, ObservationNorm, DoubleToFloat, StepCounter\n",
    "\n",
    "class UnityGymTorchWrapper(gym.Env):\n",
    "    \"\"\"\n",
    "    Custom wrapper for UnityToGymWrapper to make it compatible with TorchRL's GymWrapper.\n",
    "    \"\"\"\n",
    "\n",
    "    def __init__(self, unity_gym_env):\n",
    "        super().__init__()\n",
    "        self.unity_gym_env = unity_gym_env\n",
    "        self.observation_space = unity_gym_env.observation_space\n",
    "        self.action_space = unity_gym_env.action_space\n",
    "        \n",
    "        # print(\"init\")\n",
    "\n",
    "    def reset(self):\n",
    "        observation = self.unity_gym_env.reset()\n",
    "        if isinstance(observation, list):  \n",
    "            observation = np.concatenate(observation, axis=-1)\n",
    "        # print(\"observation\", observation)\n",
    "        return {\"observation\": observation}, {}  # TorchRL expects a dictionary\n",
    "\n",
    "    def step(self, action):\n",
    "        # print(\"step\")\n",
    "      \n",
    "        observation, reward, done, info = self.unity_gym_env.step(action)\n",
    "        if isinstance(observation, list):  \n",
    "            observation = np.concatenate(observation, axis=-1)\n",
    "        \n",
    "        # Split `done` into `terminated` and `truncated`\n",
    "        terminated = done  # Assuming `done` corresponds to a terminal state\n",
    "        truncated = False  # Unity environments don't have truncation by default\n",
    "        \n",
    "        # print(terminated)\n",
    "        # print(truncated)\n",
    "        \n",
    "        return {\"observation\": observation}, reward, terminated, truncated, info\n",
    "\n",
    "    def render(self, mode=\"human\"):\n",
    "        # print(\"render\")\n",
    "        return self.unity_gym_env.render(mode=mode)\n",
    "\n",
    "    def close(self):\n",
    "        # print(\"close\")\n",
    "        self.unity_gym_env.close()\n"
   ]
  },
  {
   "cell_type": "code",
   "execution_count": 6,
   "metadata": {},
   "outputs": [
    {
     "name": "stderr",
     "output_type": "stream",
     "text": [
      "c:\\Users\\Pawel\\anaconda3\\envs\\mlagents_env\\lib\\site-packages\\mlagents_envs\\environment.py:94: DeprecationWarning: distutils Version classes are deprecated. Use packaging.version instead.\n",
      "  unity_communicator_version = StrictVersion(unity_com_ver)\n"
     ]
    }
   ],
   "source": [
    "channel = EngineConfigurationChannel()\n",
    "env_path = \"C:/Users/Pawel/Documents/Unity_Project/warehouse-bot-training/environment_builds/test_env/Warehouse_Bot.exe\"\n",
    "\n",
    "unity_env = UnityEnvironment(\n",
    "  file_name=env_path,\n",
    "  side_channels=[channel],\n",
    "  # additional_args=[\"-batchmode\", \"-nographics\"]\n",
    ")\n",
    "channel.set_configuration_parameters(time_scale=3)\n",
    "\n",
    "# Convert Unity environment to Gym and wrap it for TorchRL\n",
    "unity_gym_env = UnityToGymWrapper(unity_env, allow_multiple_obs=True)\n",
    "custom_env = UnityGymTorchWrapper(unity_gym_env)\n",
    "\n",
    "# Wrap the custom Gym environment into TorchRL-compatible environment\n",
    "base_env = GymWrapper(custom_env)"
   ]
  },
  {
   "cell_type": "markdown",
   "metadata": {},
   "source": [
    "### Environment Normalization"
   ]
  },
  {
   "cell_type": "code",
   "execution_count": 7,
   "metadata": {},
   "outputs": [],
   "source": [
    "env = TransformedEnv(\n",
    "    base_env,\n",
    "    Compose(\n",
    "        # normalize observations\n",
    "        ObservationNorm(in_keys=[\"observation\"]),\n",
    "        DoubleToFloat(),\n",
    "        StepCounter(),\n",
    "    ),\n",
    ")"
   ]
  },
  {
   "cell_type": "code",
   "execution_count": 8,
   "metadata": {},
   "outputs": [],
   "source": [
    "env.transform[0].init_stats(num_iter=500, reduce_dim=0, cat_dim=0)"
   ]
  },
  {
   "cell_type": "markdown",
   "metadata": {},
   "source": [
    "## Environment Testing"
   ]
  },
  {
   "cell_type": "code",
   "execution_count": 9,
   "metadata": {},
   "outputs": [
    {
     "name": "stdout",
     "output_type": "stream",
     "text": [
      "normalization constant shape: torch.Size([1, 500])\n"
     ]
    }
   ],
   "source": [
    "print(\"normalization constant shape:\", env.transform[0].loc.shape)"
   ]
  },
  {
   "cell_type": "code",
   "execution_count": 10,
   "metadata": {},
   "outputs": [
    {
     "name": "stdout",
     "output_type": "stream",
     "text": [
      "observation_spec: CompositeSpec(\n",
      "    observation: UnboundedContinuousTensorSpec(\n",
      "        shape=torch.Size([1, 500]),\n",
      "        space=None,\n",
      "        device=cpu,\n",
      "        dtype=torch.float32,\n",
      "        domain=continuous),\n",
      "    step_count: BoundedTensorSpec(\n",
      "        shape=torch.Size([1]),\n",
      "        space=ContinuousBox(\n",
      "            low=Tensor(shape=torch.Size([1]), device=cpu, dtype=torch.int64, contiguous=True),\n",
      "            high=Tensor(shape=torch.Size([1]), device=cpu, dtype=torch.int64, contiguous=True)),\n",
      "        device=cpu,\n",
      "        dtype=torch.int64,\n",
      "        domain=continuous),\n",
      "    device=None,\n",
      "    shape=torch.Size([]))\n",
      "reward_spec: UnboundedContinuousTensorSpec(\n",
      "    shape=torch.Size([1]),\n",
      "    space=ContinuousBox(\n",
      "        low=Tensor(shape=torch.Size([1]), device=cpu, dtype=torch.float32, contiguous=True),\n",
      "        high=Tensor(shape=torch.Size([1]), device=cpu, dtype=torch.float32, contiguous=True)),\n",
      "    device=cpu,\n",
      "    dtype=torch.float32,\n",
      "    domain=continuous)\n",
      "input_spec: CompositeSpec(\n",
      "    full_state_spec: CompositeSpec(\n",
      "        step_count: BoundedTensorSpec(\n",
      "            shape=torch.Size([1]),\n",
      "            space=ContinuousBox(\n",
      "                low=Tensor(shape=torch.Size([1]), device=cpu, dtype=torch.int64, contiguous=True),\n",
      "                high=Tensor(shape=torch.Size([1]), device=cpu, dtype=torch.int64, contiguous=True)),\n",
      "            device=cpu,\n",
      "            dtype=torch.int64,\n",
      "            domain=continuous),\n",
      "        device=None,\n",
      "        shape=torch.Size([])),\n",
      "    full_action_spec: CompositeSpec(\n",
      "        action: OneHotDiscreteTensorSpec(\n",
      "            shape=torch.Size([3]),\n",
      "            space=DiscreteBox(n=3),\n",
      "            device=cpu,\n",
      "            dtype=torch.int64,\n",
      "            domain=discrete),\n",
      "        device=None,\n",
      "        shape=torch.Size([])),\n",
      "    device=None,\n",
      "    shape=torch.Size([]))\n",
      "action_spec (as defined by input_spec): OneHotDiscreteTensorSpec(\n",
      "    shape=torch.Size([3]),\n",
      "    space=DiscreteBox(n=3),\n",
      "    device=cpu,\n",
      "    dtype=torch.int64,\n",
      "    domain=discrete)\n"
     ]
    }
   ],
   "source": [
    "print(\"observation_spec:\", env.observation_spec)\n",
    "print(\"reward_spec:\", env.reward_spec)\n",
    "print(\"input_spec:\", env.input_spec)\n",
    "print(\"action_spec (as defined by input_spec):\", env.action_spec)"
   ]
  },
  {
   "cell_type": "code",
   "execution_count": 11,
   "metadata": {},
   "outputs": [
    {
     "name": "stderr",
     "output_type": "stream",
     "text": [
      "2025-02-12 10:23:41,959 [torchrl][INFO] check_env_specs succeeded!\n"
     ]
    }
   ],
   "source": [
    "check_env_specs(env)"
   ]
  },
  {
   "cell_type": "code",
   "execution_count": 12,
   "metadata": {},
   "outputs": [
    {
     "name": "stdout",
     "output_type": "stream",
     "text": [
      "rollout of three steps: TensorDict(\n",
      "    fields={\n",
      "        action: Tensor(shape=torch.Size([3, 3]), device=cpu, dtype=torch.int64, is_shared=False),\n",
      "        done: Tensor(shape=torch.Size([3, 1]), device=cpu, dtype=torch.bool, is_shared=False),\n",
      "        next: TensorDict(\n",
      "            fields={\n",
      "                done: Tensor(shape=torch.Size([3, 1]), device=cpu, dtype=torch.bool, is_shared=False),\n",
      "                observation: Tensor(shape=torch.Size([3, 1, 500]), device=cpu, dtype=torch.float32, is_shared=False),\n",
      "                reward: Tensor(shape=torch.Size([3, 1]), device=cpu, dtype=torch.float32, is_shared=False),\n",
      "                step_count: Tensor(shape=torch.Size([3, 1]), device=cpu, dtype=torch.int64, is_shared=False),\n",
      "                terminated: Tensor(shape=torch.Size([3, 1]), device=cpu, dtype=torch.bool, is_shared=False),\n",
      "                truncated: Tensor(shape=torch.Size([3, 1]), device=cpu, dtype=torch.bool, is_shared=False)},\n",
      "            batch_size=torch.Size([3]),\n",
      "            device=None,\n",
      "            is_shared=False),\n",
      "        observation: Tensor(shape=torch.Size([3, 1, 500]), device=cpu, dtype=torch.float32, is_shared=False),\n",
      "        step_count: Tensor(shape=torch.Size([3, 1]), device=cpu, dtype=torch.int64, is_shared=False),\n",
      "        terminated: Tensor(shape=torch.Size([3, 1]), device=cpu, dtype=torch.bool, is_shared=False),\n",
      "        truncated: Tensor(shape=torch.Size([3, 1]), device=cpu, dtype=torch.bool, is_shared=False)},\n",
      "    batch_size=torch.Size([3]),\n",
      "    device=None,\n",
      "    is_shared=False)\n",
      "Shape of the rollout TensorDict: torch.Size([3])\n"
     ]
    }
   ],
   "source": [
    "rollout = env.rollout(3)\n",
    "print(\"rollout of three steps:\", rollout)\n",
    "print(\"Shape of the rollout TensorDict:\", rollout.batch_size)"
   ]
  },
  {
   "cell_type": "markdown",
   "metadata": {},
   "source": [
    "## Policy Network"
   ]
  },
  {
   "cell_type": "code",
   "execution_count": 13,
   "metadata": {},
   "outputs": [],
   "source": [
    "class Policy_Network(nn.Module):\n",
    "    def __init__(self, num_cells) -> None:\n",
    "        super().__init__()\n",
    "        self.main = nn.Sequential(\n",
    "            nn.LazyLinear(num_cells, device=device),\n",
    "            nn.Tanh(),\n",
    "            nn.LazyLinear(num_cells, device=device),\n",
    "            nn.Tanh(),\n",
    "            nn.LazyLinear(num_cells, device=device),\n",
    "            nn.Tanh(),\n",
    "            nn.LazyLinear(2 * env.action_spec.shape[-1], device=device),\n",
    "            NormalParamExtractor(),\n",
    "        )\n",
    "        \n",
    "    def forward(self, inputs):        \n",
    "        result = self.main(inputs)\n",
    "        return result"
   ]
  },
  {
   "cell_type": "code",
   "execution_count": 14,
   "metadata": {},
   "outputs": [],
   "source": [
    "policy_net = Policy_Network(num_cells).to(device)\n",
    "\n",
    "policy_module = TensorDictModule(\n",
    "    policy_net, in_keys=[\"observation\"], out_keys=[\"logits\"] #out_keys=[\"loc\", \"scale\"]\n",
    ")\n",
    "\n",
    "policy_module = ProbabilisticActor(\n",
    "    module=policy_module,\n",
    "    spec=env.action_spec,\n",
    "    in_keys=[\"logits\"],\n",
    "    distribution_class=OneHotCategorical,\n",
    "    distribution_kwargs={},\n",
    "    return_log_prob=True,\n",
    "    # we'll need the log-prob for the numerator of the importance weights\n",
    ").to(device)"
   ]
  },
  {
   "cell_type": "markdown",
   "metadata": {},
   "source": [
    "## Value Network"
   ]
  },
  {
   "cell_type": "code",
   "execution_count": 15,
   "metadata": {},
   "outputs": [],
   "source": [
    "class Value_Network(nn.Module):\n",
    "    def __init__(self, num_cells) -> None:\n",
    "        super().__init__()\n",
    "        self.main = nn.Sequential(\n",
    "            nn.LazyLinear(num_cells, device=device),\n",
    "            nn.Tanh(),\n",
    "            nn.LazyLinear(num_cells, device=device),\n",
    "            nn.Tanh(),\n",
    "            nn.LazyLinear(num_cells, device=device),\n",
    "            nn.Tanh(),\n",
    "            nn.LazyLinear(1, device=device),\n",
    "            nn.Flatten()\n",
    "        )\n",
    "        \n",
    "    def forward(self, inputs):\n",
    "        # print(f'inputs: {inputs.shape}')\n",
    "        \n",
    "        result = self.main(inputs)\n",
    "        # print(f'result: {result.shape}')\n",
    "        return result"
   ]
  },
  {
   "cell_type": "code",
   "execution_count": 16,
   "metadata": {},
   "outputs": [],
   "source": [
    "value_net = Value_Network(num_cells).to(device)\n",
    "\n",
    "value_module = ValueOperator(\n",
    "    module=value_net,\n",
    "    in_keys=[\"observation\"],\n",
    ").to(device)"
   ]
  },
  {
   "cell_type": "markdown",
   "metadata": {},
   "source": [
    "## Tesitng Policy and Value Modules"
   ]
  },
  {
   "cell_type": "code",
   "execution_count": 17,
   "metadata": {},
   "outputs": [
    {
     "name": "stdout",
     "output_type": "stream",
     "text": [
      "Running policy: TensorDict(\n",
      "    fields={\n",
      "        action: Tensor(shape=torch.Size([1, 3]), device=cuda:0, dtype=torch.int64, is_shared=True),\n",
      "        done: Tensor(shape=torch.Size([1]), device=cuda:0, dtype=torch.bool, is_shared=True),\n",
      "        logits: Tensor(shape=torch.Size([1, 3]), device=cuda:0, dtype=torch.float32, is_shared=True),\n",
      "        observation: Tensor(shape=torch.Size([1, 500]), device=cuda:0, dtype=torch.float32, is_shared=True),\n",
      "        sample_log_prob: Tensor(shape=torch.Size([1]), device=cuda:0, dtype=torch.float32, is_shared=True),\n",
      "        step_count: Tensor(shape=torch.Size([1]), device=cuda:0, dtype=torch.int64, is_shared=True),\n",
      "        terminated: Tensor(shape=torch.Size([1]), device=cuda:0, dtype=torch.bool, is_shared=True),\n",
      "        truncated: Tensor(shape=torch.Size([1]), device=cuda:0, dtype=torch.bool, is_shared=True)},\n",
      "    batch_size=torch.Size([]),\n",
      "    device=cuda:0,\n",
      "    is_shared=True)\n",
      "Running value: TensorDict(\n",
      "    fields={\n",
      "        done: Tensor(shape=torch.Size([1]), device=cuda:0, dtype=torch.bool, is_shared=True),\n",
      "        observation: Tensor(shape=torch.Size([1, 500]), device=cuda:0, dtype=torch.float32, is_shared=True),\n",
      "        state_value: Tensor(shape=torch.Size([1, 1]), device=cuda:0, dtype=torch.float32, is_shared=True),\n",
      "        step_count: Tensor(shape=torch.Size([1]), device=cuda:0, dtype=torch.int64, is_shared=True),\n",
      "        terminated: Tensor(shape=torch.Size([1]), device=cuda:0, dtype=torch.bool, is_shared=True),\n",
      "        truncated: Tensor(shape=torch.Size([1]), device=cuda:0, dtype=torch.bool, is_shared=True)},\n",
      "    batch_size=torch.Size([]),\n",
      "    device=cuda:0,\n",
      "    is_shared=True)\n"
     ]
    }
   ],
   "source": [
    "print(\"Running policy:\", policy_module(env.reset().to(device)))\n",
    "print(\"Running value:\", value_module(env.reset().to(device)))\n"
   ]
  },
  {
   "cell_type": "markdown",
   "metadata": {},
   "source": [
    "## Data Collector"
   ]
  },
  {
   "cell_type": "code",
   "execution_count": 18,
   "metadata": {},
   "outputs": [],
   "source": [
    "# def episode_reward_callback(tensordict):\n",
    "#     \"\"\"\n",
    "#     Computes episode rewards and appends them to the batch.\n",
    "#     This modifies the `tensordict` in-place.\n",
    "#     \"\"\"\n",
    "#     rewards = tensordict[\"next\", \"reward\"]\n",
    "#     done_flags = tensordict[\"done\"]\n",
    "\n",
    "#     # Identify end-of-episode steps\n",
    "#     episode_ends = done_flags.squeeze(-1)\n",
    "\n",
    "#     # Use scatter_add_ to accumulate rewards per trajectory\n",
    "#     episode_rewards = torch.zeros_like(rewards)\n",
    "#     episode_rewards[episode_ends] = rewards[episode_ends]\n",
    "\n",
    "#     # Store the computed rewards in tensordict\n",
    "#     tensordict.set(\"episode_reward\", episode_rewards)\n",
    "\n",
    "#     return tensordict  # Ensure the tensordict is returned for further processing\n",
    "  \n",
    "collector = SyncDataCollector(\n",
    "    env,\n",
    "    policy_module,\n",
    "    frames_per_batch=batch_size,\n",
    "    total_frames=total_frames,\n",
    "    split_trajs=False,\n",
    "    device=device,\n",
    "    reset_when_done=True, # ??? VERIFY\n",
    "    reset_at_each_iter=True, # ??? VERIFY\n",
    "    # postproc=episode_reward_callback\n",
    ")"
   ]
  },
  {
   "cell_type": "markdown",
   "metadata": {},
   "source": [
    "## Replay Buffer"
   ]
  },
  {
   "cell_type": "code",
   "execution_count": 19,
   "metadata": {},
   "outputs": [],
   "source": [
    "replay_buffer = ReplayBuffer(\n",
    "    storage=LazyTensorStorage(max_size=batch_size),\n",
    "    sampler=SamplerWithoutReplacement(),\n",
    ")"
   ]
  },
  {
   "cell_type": "markdown",
   "metadata": {},
   "source": [
    "## Loss Function"
   ]
  },
  {
   "cell_type": "code",
   "execution_count": 20,
   "metadata": {},
   "outputs": [],
   "source": [
    "# GAE - Generalized Advantage Estimation\n",
    "advantage_module = GAE(\n",
    "    gamma=gamma, lmbda=lmbda, value_network=value_module, average_gae=True\n",
    ")\n",
    "\n",
    "loss_module = ClipPPOLoss(\n",
    "    actor_network=policy_module,\n",
    "    critic_network=value_module,\n",
    "    clip_epsilon=clip_epsilon,\n",
    "    entropy_bonus=bool(entropy_eps),\n",
    "    entropy_coef=entropy_eps,\n",
    "    # these keys match by default but we set this for completeness\n",
    "    critic_coef=1.0,\n",
    "    loss_critic_type=\"smooth_l1\",\n",
    ")\n",
    "\n",
    "optim = torch.optim.Adam(loss_module.parameters(), lr)\n",
    "scheduler = torch.optim.lr_scheduler.CosineAnnealingLR(\n",
    "    optim, total_frames // batch_size, 0.0\n",
    ")"
   ]
  },
  {
   "cell_type": "markdown",
   "metadata": {},
   "source": [
    "## Trainign Loop"
   ]
  },
  {
   "cell_type": "code",
   "execution_count": 21,
   "metadata": {},
   "outputs": [
    {
     "name": "stdout",
     "output_type": "stream",
     "text": [
      "Policy Device: cuda:0\n",
      "Environment Device: cuda:0\n"
     ]
    }
   ],
   "source": [
    "print(\"Policy Device:\", next(policy_module.parameters()).device)\n",
    "print(\"Environment Device:\", env.device)"
   ]
  },
  {
   "cell_type": "code",
   "execution_count": 22,
   "metadata": {},
   "outputs": [
    {
     "name": "stderr",
     "output_type": "stream",
     "text": [
      "avg reward=-0.49296876788139343 (init=-0.49296876788139343) episode reward=-129.43588256835938 (init=-129.43588256835938), step count (max): 479, lr policy:  0.0003:   4%|▍         | 10240/250000 [01:10<27:20, 146.14it/s]"
     ]
    },
    {
     "name": "stdout",
     "output_type": "stream",
     "text": [
      "avg reward=-0.49296876788139343 (init=-0.49296876788139343) episode reward=-129.43588256835938 (init=-129.43588256835938), step count (max): 479, lr policy:  0.0003\n"
     ]
    },
    {
     "name": "stderr",
     "output_type": "stream",
     "text": [
      "avg reward=-0.49296876788139343 (init=-0.49296876788139343) episode reward=-117.39534759521484 (init=-129.43588256835938), step count (max): 432, lr policy:  0.0003:   8%|▊         | 20480/250000 [02:19<25:55, 147.52it/s]"
     ]
    },
    {
     "name": "stdout",
     "output_type": "stream",
     "text": [
      "avg reward=-0.49296876788139343 (init=-0.49296876788139343) episode reward=-117.39534759521484 (init=-129.43588256835938), step count (max): 432, lr policy:  0.0003\n"
     ]
    },
    {
     "name": "stderr",
     "output_type": "stream",
     "text": [
      "avg reward=-0.551562488079071 (init=-0.49296876788139343) episode reward=-152.64866638183594 (init=-129.43588256835938), step count (max): 494, lr policy:  0.0003:  12%|█▏        | 30720/250000 [03:27<24:40, 148.09it/s]  "
     ]
    },
    {
     "name": "stdout",
     "output_type": "stream",
     "text": [
      "avg reward=-0.551562488079071 (init=-0.49296876788139343) episode reward=-152.64866638183594 (init=-129.43588256835938), step count (max): 494, lr policy:  0.0003\n"
     ]
    },
    {
     "name": "stderr",
     "output_type": "stream",
     "text": [
      "avg reward=-0.47343751788139343 (init=-0.49296876788139343) episode reward=-124.30767822265625 (init=-129.43588256835938), step count (max): 468, lr policy:  0.0003:  16%|█▋        | 40960/250000 [04:36<23:29, 148.26it/s]"
     ]
    },
    {
     "name": "stdout",
     "output_type": "stream",
     "text": [
      "avg reward=-0.47343751788139343 (init=-0.49296876788139343) episode reward=-124.30767822265625 (init=-129.43588256835938), step count (max): 468, lr policy:  0.0003\n"
     ]
    },
    {
     "name": "stderr",
     "output_type": "stream",
     "text": [
      "avg reward=-0.512499988079071 (init=-0.49296876788139343) episode reward=-122.04652404785156 (init=-129.43588256835938), step count (max): 379, lr policy:  0.0003:  20%|██        | 51200/250000 [05:45<22:20, 148.35it/s]  "
     ]
    },
    {
     "name": "stdout",
     "output_type": "stream",
     "text": [
      "avg reward=-0.512499988079071 (init=-0.49296876788139343) episode reward=-122.04652404785156 (init=-129.43588256835938), step count (max): 379, lr policy:  0.0003\n"
     ]
    },
    {
     "name": "stderr",
     "output_type": "stream",
     "text": [
      "avg reward=-0.48320314288139343 (init=-0.49296876788139343) episode reward=-117.80950927734375 (init=-129.43588256835938), step count (max): 436, lr policy:  0.0003:  25%|██▍       | 61440/250000 [06:54<21:10, 148.40it/s]"
     ]
    },
    {
     "name": "stdout",
     "output_type": "stream",
     "text": [
      "avg reward=-0.48320314288139343 (init=-0.49296876788139343) episode reward=-117.80950927734375 (init=-129.43588256835938), step count (max): 436, lr policy:  0.0003\n"
     ]
    },
    {
     "name": "stderr",
     "output_type": "stream",
     "text": [
      "avg reward=-0.551562488079071 (init=-0.49296876788139343) episode reward=-137.756103515625 (init=-129.43588256835938), step count (max): 454, lr policy:  0.0003:  29%|██▊       | 71680/250000 [08:03<20:01, 148.44it/s]    "
     ]
    },
    {
     "name": "stdout",
     "output_type": "stream",
     "text": [
      "avg reward=-0.551562488079071 (init=-0.49296876788139343) episode reward=-137.756103515625 (init=-129.43588256835938), step count (max): 454, lr policy:  0.0003\n"
     ]
    },
    {
     "name": "stderr",
     "output_type": "stream",
     "text": [
      "avg reward=-0.5124804377555847 (init=-0.49296876788139343) episode reward=-134.55897521972656 (init=-129.43588256835938), step count (max): 499, lr policy:  0.0002:  33%|███▎      | 81920/250000 [09:12<18:51, 148.48it/s]"
     ]
    },
    {
     "name": "stdout",
     "output_type": "stream",
     "text": [
      "avg reward=-0.5124804377555847 (init=-0.49296876788139343) episode reward=-134.55897521972656 (init=-129.43588256835938), step count (max): 499, lr policy:  0.0002\n"
     ]
    },
    {
     "name": "stderr",
     "output_type": "stream",
     "text": [
      "avg reward=-0.502734363079071 (init=-0.49296876788139343) episode reward=-128.6999969482422 (init=-129.43588256835938), step count (max): 414, lr policy:  0.0002:  37%|███▋      | 92160/250000 [10:21<17:42, 148.57it/s]  "
     ]
    },
    {
     "name": "stdout",
     "output_type": "stream",
     "text": [
      "avg reward=-0.502734363079071 (init=-0.49296876788139343) episode reward=-128.6999969482422 (init=-129.43588256835938), step count (max): 414, lr policy:  0.0002\n"
     ]
    },
    {
     "name": "stderr",
     "output_type": "stream",
     "text": [
      "avg reward=-0.3659765422344208 (init=-0.49296876788139343) episode reward=-81.46956634521484 (init=-129.43588256835938), step count (max): 499, lr policy:  0.0002:  41%|████      | 102400/250000 [11:30<16:33, 148.59it/s]"
     ]
    },
    {
     "name": "stdout",
     "output_type": "stream",
     "text": [
      "avg reward=-0.3659765422344208 (init=-0.49296876788139343) episode reward=-81.46956634521484 (init=-129.43588256835938), step count (max): 499, lr policy:  0.0002\n"
     ]
    },
    {
     "name": "stderr",
     "output_type": "stream",
     "text": [
      "avg reward=-0.49292969703674316 (init=-0.49296876788139343) episode reward=-123.11219787597656 (init=-129.43588256835938), step count (max): 499, lr policy:  0.0002:  45%|████▌     | 112640/250000 [12:39<15:24, 148.62it/s]"
     ]
    },
    {
     "name": "stdout",
     "output_type": "stream",
     "text": [
      "avg reward=-0.49292969703674316 (init=-0.49296876788139343) episode reward=-123.11219787597656 (init=-129.43588256835938), step count (max): 499, lr policy:  0.0002\n"
     ]
    },
    {
     "name": "stderr",
     "output_type": "stream",
     "text": [
      "avg reward=-0.4831835925579071 (init=-0.49296876788139343) episode reward=-130.2052764892578 (init=-129.43588256835938), step count (max): 499, lr policy:  0.0002:  49%|████▉     | 122880/250000 [13:48<14:15, 148.66it/s]  "
     ]
    },
    {
     "name": "stdout",
     "output_type": "stream",
     "text": [
      "avg reward=-0.4831835925579071 (init=-0.49296876788139343) episode reward=-130.2052764892578 (init=-129.43588256835938), step count (max): 499, lr policy:  0.0002\n"
     ]
    },
    {
     "name": "stderr",
     "output_type": "stream",
     "text": [
      "avg reward=-0.502734363079071 (init=-0.49296876788139343) episode reward=-128.6999969482422 (init=-129.43588256835938), step count (max): 387, lr policy:  0.0002:  53%|█████▎    | 133120/250000 [14:56<13:06, 148.69it/s] "
     ]
    },
    {
     "name": "stdout",
     "output_type": "stream",
     "text": [
      "avg reward=-0.502734363079071 (init=-0.49296876788139343) episode reward=-128.6999969482422 (init=-129.43588256835938), step count (max): 387, lr policy:  0.0002\n"
     ]
    },
    {
     "name": "stderr",
     "output_type": "stream",
     "text": [
      "avg reward=-0.4538867175579071 (init=-0.49296876788139343) episode reward=-119.17435455322266 (init=-129.43588256835938), step count (max): 499, lr policy:  0.0001:  57%|█████▋    | 143360/250000 [16:05<11:57, 148.72it/s]"
     ]
    },
    {
     "name": "stdout",
     "output_type": "stream",
     "text": [
      "avg reward=-0.4538867175579071 (init=-0.49296876788139343) episode reward=-119.17435455322266 (init=-129.43588256835938), step count (max): 499, lr policy:  0.0001\n"
     ]
    },
    {
     "name": "stderr",
     "output_type": "stream",
     "text": [
      "avg reward=-0.522265613079071 (init=-0.49296876788139343) episode reward=-140.7368621826172 (init=-129.43588256835938), step count (max): 421, lr policy:  0.0001:  61%|██████▏   | 153600/250000 [17:14<10:48, 148.72it/s]  "
     ]
    },
    {
     "name": "stdout",
     "output_type": "stream",
     "text": [
      "avg reward=-0.522265613079071 (init=-0.49296876788139343) episode reward=-140.7368621826172 (init=-129.43588256835938), step count (max): 421, lr policy:  0.0001\n"
     ]
    },
    {
     "name": "stderr",
     "output_type": "stream",
     "text": [
      "avg reward=-0.4343554675579071 (init=-0.49296876788139343) episode reward=-114.04615020751953 (init=-129.43588256835938), step count (max): 499, lr policy:  0.0001:  66%|██████▌   | 163840/250000 [18:23<09:39, 148.63it/s]"
     ]
    },
    {
     "name": "stdout",
     "output_type": "stream",
     "text": [
      "avg reward=-0.4343554675579071 (init=-0.49296876788139343) episode reward=-114.04615020751953 (init=-129.43588256835938), step count (max): 499, lr policy:  0.0001\n"
     ]
    },
    {
     "name": "stderr",
     "output_type": "stream",
     "text": [
      "avg reward=-0.48320314288139343 (init=-0.49296876788139343) episode reward=-130.21051025390625 (init=-129.43588256835938), step count (max): 474, lr policy:  0.0001:  70%|██████▉   | 174080/250000 [19:32<08:30, 148.61it/s]"
     ]
    },
    {
     "name": "stdout",
     "output_type": "stream",
     "text": [
      "avg reward=-0.48320314288139343 (init=-0.49296876788139343) episode reward=-130.21051025390625 (init=-129.43588256835938), step count (max): 474, lr policy:  0.0001\n"
     ]
    },
    {
     "name": "stderr",
     "output_type": "stream",
     "text": [
      "avg reward=-0.49296876788139343 (init=-0.49296876788139343) episode reward=-117.39534759521484 (init=-129.43588256835938), step count (max): 398, lr policy:  0.0001:  74%|███████▎  | 184320/250000 [20:41<07:21, 148.62it/s]"
     ]
    },
    {
     "name": "stdout",
     "output_type": "stream",
     "text": [
      "avg reward=-0.49296876788139343 (init=-0.49296876788139343) episode reward=-117.39534759521484 (init=-129.43588256835938), step count (max): 398, lr policy:  0.0001\n"
     ]
    },
    {
     "name": "stderr",
     "output_type": "stream",
     "text": [
      "avg reward=-0.48320314288139343 (init=-0.49296876788139343) episode reward=-123.69999694824219 (init=-129.43588256835938), step count (max): 438, lr policy:  0.0000:  78%|███████▊  | 194560/250000 [21:50<06:12, 148.66it/s]"
     ]
    },
    {
     "name": "stdout",
     "output_type": "stream",
     "text": [
      "avg reward=-0.48320314288139343 (init=-0.49296876788139343) episode reward=-123.69999694824219 (init=-129.43588256835938), step count (max): 438, lr policy:  0.0000\n"
     ]
    },
    {
     "name": "stderr",
     "output_type": "stream",
     "text": [
      "avg reward=-0.4734179675579071 (init=-0.49296876788139343) episode reward=-124.30254364013672 (init=-129.43588256835938), step count (max): 499, lr policy:  0.0000:  82%|████████▏ | 204800/250000 [22:59<05:04, 148.63it/s] "
     ]
    },
    {
     "name": "stdout",
     "output_type": "stream",
     "text": [
      "avg reward=-0.4734179675579071 (init=-0.49296876788139343) episode reward=-124.30254364013672 (init=-129.43588256835938), step count (max): 499, lr policy:  0.0000\n"
     ]
    },
    {
     "name": "stderr",
     "output_type": "stream",
     "text": [
      "avg reward=-0.4636327922344208 (init=-0.49296876788139343) episode reward=-131.87777709960938 (init=-129.43588256835938), step count (max): 499, lr policy:  0.0000:  86%|████████▌ | 215040/250000 [24:08<03:55, 148.61it/s]"
     ]
    },
    {
     "name": "stdout",
     "output_type": "stream",
     "text": [
      "avg reward=-0.4636327922344208 (init=-0.49296876788139343) episode reward=-131.87777709960938 (init=-129.43588256835938), step count (max): 499, lr policy:  0.0000\n"
     ]
    },
    {
     "name": "stderr",
     "output_type": "stream",
     "text": [
      "avg reward=-0.43437501788139343 (init=-0.49296876788139343) episode reward=-114.05128479003906 (init=-129.43588256835938), step count (max): 443, lr policy:  0.0000:  90%|█████████ | 225280/250000 [25:16<02:46, 148.65it/s]"
     ]
    },
    {
     "name": "stdout",
     "output_type": "stream",
     "text": [
      "avg reward=-0.43437501788139343 (init=-0.49296876788139343) episode reward=-114.05128479003906 (init=-129.43588256835938), step count (max): 443, lr policy:  0.0000\n"
     ]
    },
    {
     "name": "stderr",
     "output_type": "stream",
     "text": [
      "avg reward=-0.48320314288139343 (init=-0.49296876788139343) episode reward=-123.69999694824219 (init=-129.43588256835938), step count (max): 435, lr policy:  0.0000:  94%|█████████▍| 235520/250000 [26:25<01:37, 148.61it/s]"
     ]
    },
    {
     "name": "stdout",
     "output_type": "stream",
     "text": [
      "avg reward=-0.48320314288139343 (init=-0.49296876788139343) episode reward=-123.69999694824219 (init=-129.43588256835938), step count (max): 435, lr policy:  0.0000\n"
     ]
    },
    {
     "name": "stderr",
     "output_type": "stream",
     "text": [
      "avg reward=-0.532031238079071 (init=-0.49296876788139343) episode reward=-139.69229125976562 (init=-129.43588256835938), step count (max): 394, lr policy:  0.0000:  98%|█████████▊| 245760/250000 [27:34<00:28, 148.64it/s]  "
     ]
    },
    {
     "name": "stdout",
     "output_type": "stream",
     "text": [
      "avg reward=-0.532031238079071 (init=-0.49296876788139343) episode reward=-139.69229125976562 (init=-129.43588256835938), step count (max): 394, lr policy:  0.0000\n"
     ]
    },
    {
     "name": "stderr",
     "output_type": "stream",
     "text": [
      "avg reward=-0.41484370827674866 (init=-0.49296876788139343) episode reward=-94.4000015258789 (init=-129.43588256835938), step count (max): 381, lr policy:  0.0000: : 256000it [28:43, 148.39it/s]                          "
     ]
    },
    {
     "name": "stdout",
     "output_type": "stream",
     "text": [
      "avg reward=-0.41484370827674866 (init=-0.49296876788139343) episode reward=-94.4000015258789 (init=-129.43588256835938), step count (max): 381, lr policy:  0.0000\n"
     ]
    }
   ],
   "source": [
    "from torchrl.envs.utils import LazyStackedTensorDict\n",
    "import pandas as pd\n",
    "\n",
    "logs = defaultdict(list)\n",
    "pbar = tqdm(total=total_frames)\n",
    "eval_str = \"\"\n",
    "\n",
    "# We iterate over the collector until it reaches the total number of frames it was\n",
    "# designed to collect:\n",
    "for i, tensordict_data in enumerate(collector):\n",
    "    # we now have a batch of data to work with. Let's learn something from it.\n",
    "\n",
    "    for _ in range(num_epochs):\n",
    "        # We'll need an \"advantage\" signal to make PPO work.\n",
    "        # We re-compute it at each epoch as its value depends on the value\n",
    "        # network which is updated in the inner loop.\n",
    "\n",
    "        # print('advantage module -- start --')\n",
    "        # Compute advantage\n",
    "        adv_results = advantage_module(tensordict_data)\n",
    "        # print('advantage module -- stop -- ', adv_results)\n",
    "        \n",
    "        data_view = tensordict_data.reshape(-1)\n",
    "        replay_buffer.extend(data_view.cpu())\n",
    "        for _ in range(batch_size // sub_batch_size):\n",
    "            subdata = replay_buffer.sample(sub_batch_size)\n",
    "            \n",
    "            # print('loss_module -- start --')\n",
    "            loss_vals = loss_module(subdata.to(device))\n",
    "            # print('loss_module -- stop --')\n",
    "            loss_value = (\n",
    "                loss_vals[\"loss_objective\"]\n",
    "                + loss_vals[\"loss_critic\"]\n",
    "                + loss_vals[\"loss_entropy\"]\n",
    "            )\n",
    "\n",
    "            # Optimization: backward, grad clipping and optimization step\n",
    "            loss_value.backward()\n",
    "            # this is not strictly mandatory but it's good practice to keep\n",
    "            # your gradient norm bounded\n",
    "            torch.nn.utils.clip_grad_norm_(loss_module.parameters(), max_grad_norm)\n",
    "            optim.step()\n",
    "            optim.zero_grad()\n",
    "\n",
    "\n",
    "\n",
    "    # print(i)\n",
    "    if i % 1 == 0:\n",
    "        # Loggs ---\n",
    "        \n",
    "        # Convert to CPU & NumPy for easier aggregation\n",
    "        rewards = tensordict_data[\"next\", \"reward\"].cpu().numpy().flatten()\n",
    "        done_flags = tensordict_data[\"done\"].cpu().numpy().flatten()\n",
    "        traj_ids = tensordict_data[\"collector\", \"traj_ids\"].cpu().numpy().flatten()\n",
    "\n",
    "        # Create a DataFrame for easier aggregation\n",
    "        df = pd.DataFrame({\"traj_id\": traj_ids, \"reward\": rewards, \"done\": done_flags})\n",
    "\n",
    "        # Sum rewards for each unique trajectory ID\n",
    "        episode_rewards = df.groupby(\"traj_id\")[\"reward\"].sum().to_numpy()\n",
    "        \n",
    "        # ---\n",
    "    \n",
    "        logs[\"reward\"].append(tensordict_data[\"next\", \"reward\"].mean().item())\n",
    "        logs[\"reward_episodes\"].append(episode_rewards.mean())\n",
    "        \n",
    "        # print(episode_rewards, episode_rewards.mean(), logs[\"reward_episodes\"], logs[\"reward_episodes\"][0], logs['reward_episodes'][-1])\n",
    "        reward_str = (\n",
    "            f\"avg reward={logs['reward'][-1]} (init={logs['reward'][0]}) episode reward={logs['reward_episodes'][-1]} (init={logs['reward_episodes'][0]})\"\n",
    "        )\n",
    "        \n",
    "        logs[\"step_count\"].append(tensordict_data[\"step_count\"].max().item())\n",
    "        stepcount_str = f\"step count (max): {logs['step_count'][-1]}\"\n",
    "        \n",
    "        logs[\"lr\"].append(optim.param_groups[0][\"lr\"])\n",
    "        lr_str = f\"lr policy: {logs['lr'][-1]: 4.4f}\"\n",
    "        \n",
    "        # ---\n",
    "\n",
    "    print(\", \".join([reward_str, stepcount_str, lr_str]))\n",
    "    pbar.set_description(\", \".join([reward_str, stepcount_str, lr_str]))\n",
    "    pbar.update(tensordict_data.numel())\n",
    "    \n",
    "    # We're also using a learning rate scheduler. Like the gradient clipping,\n",
    "    # this is a nice-to-have but nothing necessary for PPO to work.\n",
    "    scheduler.step()"
   ]
  },
  {
   "cell_type": "code",
   "execution_count": 23,
   "metadata": {},
   "outputs": [
    {
     "data": {
      "text/plain": [
       "DiscreteBox(n=3)"
      ]
     },
     "execution_count": 23,
     "metadata": {},
     "output_type": "execute_result"
    }
   ],
   "source": [
    "env.action_spec.space"
   ]
  },
  {
   "cell_type": "code",
   "execution_count": 24,
   "metadata": {},
   "outputs": [
    {
     "data": {
      "image/png": "[encoded data removed]",
      "text/plain": [
       "<Figure size 1000x1000 with 4 Axes>"
      ]
     },
     "metadata": {},
     "output_type": "display_data"
    },
    {
     "name": "stderr",
     "output_type": "stream",
     "text": [
      "avg reward=-0.41484370827674866 (init=-0.49296876788139343) episode reward=-94.4000015258789 (init=-129.43588256835938), step count (max): 381, lr policy:  0.0000: : 256000it [29:01, 148.39it/s]"
     ]
    }
   ],
   "source": [
    "plt.figure(figsize=(10, 10))\n",
    "plt.subplot(2, 2, 1)\n",
    "plt.plot(logs[\"reward\"])\n",
    "plt.title(\"training rewards (average)\")\n",
    "plt.subplot(2, 2, 2)\n",
    "plt.plot(logs[\"step_count\"])\n",
    "plt.title(\"Max step count (training)\")\n",
    "plt.subplot(2, 2, 3)\n",
    "plt.plot(logs[\"eval reward (sum)\"])\n",
    "plt.title(\"Return (test)\")\n",
    "plt.subplot(2, 2, 4)\n",
    "plt.plot(logs[\"eval step_count\"])\n",
    "plt.title(\"Max step count (test)\")\n",
    "plt.show()"
   ]
  }
 ],
 "metadata": {
  "kernelspec": {
   "display_name": "mlagents_env",
   "language": "python",
   "name": "python3"
  },
  "language_info": {
   "codemirror_mode": {
    "name": "ipython",
    "version": 3
   },
   "file_extension": ".py",
   "mimetype": "text/x-python",
   "name": "python",
   "nbconvert_exporter": "python",
   "pygments_lexer": "ipython3",
   "version": "3.8.20"
  }
 },
 "nbformat": 4,
 "nbformat_minor": 2
}
